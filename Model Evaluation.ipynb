{
 "cells": [
  {
   "cell_type": "code",
   "execution_count": 1,
   "metadata": {},
   "outputs": [],
   "source": [
    "import joblib\n",
    "import os\n",
    "import pandas as pd\n",
    "from sklearn.metrics import confusion_matrix\n",
    "from predictions import to_predictable"
   ]
  },
  {
   "cell_type": "code",
   "execution_count": 2,
   "metadata": {},
   "outputs": [
    {
     "name": "stdout",
     "output_type": "stream",
     "text": [
      "The equivalent of 7.632209323751612 likely donors is overlooked per 100 samples\n",
      "(where 5 misclassified unlikely donors are considered as important as a single misclassified likely donor).\n"
     ]
    }
   ],
   "source": [
    "adult_test = \"data/adult.test\"\n",
    "model_folder = \".\"\n",
    "\n",
    "model = joblib.load(os.path.join(model_folder, \"model.joblib\"))\n",
    "\n",
    "df = pd.read_csv(adult_test, header=0)\n",
    "\n",
    "X = to_predictable(df)\n",
    "y = df[\"label\"]\n",
    "\n",
    "predictions = model.predict(X)\n",
    "confusion = confusion_matrix(y, predictions)\n",
    "loss = confusion[0][1]/5 + confusion[1][0]\n",
    "\n",
    "print(\"The equivalent of \" + str(100*loss/len(y)) + \" likely donors is overlooked per 100 samples\\n(where 5 misclassified unlikely donors are considered as important as a single misclassified likely donor).\")"
   ]
  }
 ],
 "metadata": {
  "kernelspec": {
   "display_name": "Python 3",
   "language": "python",
   "name": "python3"
  },
  "language_info": {
   "codemirror_mode": {
    "name": "ipython",
    "version": 3
   },
   "file_extension": ".py",
   "mimetype": "text/x-python",
   "name": "python",
   "nbconvert_exporter": "python",
   "pygments_lexer": "ipython3",
   "version": "3.6.7"
  }
 },
 "nbformat": 4,
 "nbformat_minor": 2
}
