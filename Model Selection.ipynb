{
 "cells": [
  {
   "cell_type": "code",
   "execution_count": 1,
   "metadata": {},
   "outputs": [],
   "source": [
    "from IPython.core.interactiveshell import InteractiveShell\n",
    "InteractiveShell.ast_node_interactivity = \"all\"\n",
    "\n",
    "adult_data = \"data/adult.data\"\n",
    "model_folder = \".\""
   ]
  },
  {
   "cell_type": "code",
   "execution_count": 2,
   "metadata": {},
   "outputs": [],
   "source": [
    "import pandas as pd\n",
    "from predictions import to_predictable\n",
    "\n",
    "df = pd.read_csv(adult_data, header=0)"
   ]
  },
  {
   "cell_type": "code",
   "execution_count": 3,
   "metadata": {},
   "outputs": [],
   "source": [
    "X = to_predictable(df)\n",
    "y = df[\"label\"]"
   ]
  },
  {
   "cell_type": "code",
   "execution_count": 4,
   "metadata": {},
   "outputs": [],
   "source": [
    "from sklearn.model_selection import train_test_split\n",
    "\n",
    "# Split the data into train and test so that the training set can be\n",
    "# used to compare performance of models\n",
    "X_train, X_evaluate, y_train, y_evaluate = train_test_split(X, y, test_size=0.2, random_state=1)\n",
    "X_train, X_test, y_train, y_test = train_test_split(X_train, y_train, random_state=1)"
   ]
  },
  {
   "cell_type": "code",
   "execution_count": 5,
   "metadata": {},
   "outputs": [
    {
     "name": "stdout",
     "output_type": "stream",
     "text": [
      "654.2 RandomForestClassifier(bootstrap=True,\n",
      "            class_weight={'>50K': 0.8, '<=50K': 0.2}, criterion='gini',\n",
      "            max_depth=None, max_features='auto', max_leaf_nodes=None,\n",
      "            min_impurity_decrease=0.0, min_impurity_split=None,\n",
      "            min_samples_leaf=1, min_samples_split=2,\n",
      "            min_weight_fraction_leaf=0.0, n_estimators=3, n_jobs=None,\n",
      "            oob_score=False, random_state=None, verbose=0,\n",
      "            warm_start=False)\n",
      "663.2 RandomForestClassifier(bootstrap=True,\n",
      "            class_weight={'>50K': 0.8333333333333334, '<=50K': 0.16666666666666666},\n",
      "            criterion='gini', max_depth=None, max_features='auto',\n",
      "            max_leaf_nodes=None, min_impurity_decrease=0.0,\n",
      "            min_impurity_split=None, min_samples_leaf=1,\n",
      "            min_samples_split=2, min_weight_fraction_leaf=0.0,\n",
      "            n_estimators=3, n_jobs=None, oob_score=False,\n",
      "            random_state=None, verbose=0, warm_start=False)\n",
      "690.6 RandomForestClassifier(bootstrap=True,\n",
      "            class_weight={'>50K': 0.8571428571428571, '<=50K': 0.14285714285714285},\n",
      "            criterion='gini', max_depth=None, max_features='auto',\n",
      "            max_leaf_nodes=None, min_impurity_decrease=0.0,\n",
      "            min_impurity_split=None, min_samples_leaf=1,\n",
      "            min_samples_split=2, min_weight_fraction_leaf=0.0,\n",
      "            n_estimators=3, n_jobs=None, oob_score=False,\n",
      "            random_state=None, verbose=0, warm_start=False)\n",
      "610.0 KNeighborsClassifier(algorithm='auto', leaf_size=30, metric='minkowski',\n",
      "           metric_params=None, n_jobs=None, n_neighbors=5, p=2,\n",
      "           weights='uniform')\n",
      "700.6 LinearDiscriminantAnalysis(n_components=None, priors=None, shrinkage=None,\n",
      "              solver='svd', store_covariance=False, tol=0.0001)\n"
     ]
    },
    {
     "name": "stderr",
     "output_type": "stream",
     "text": [
      "/home/gershie/.local/lib/python3.6/site-packages/sklearn/discriminant_analysis.py:388: UserWarning: Variables are collinear.\n",
      "  warnings.warn(\"Variables are collinear.\")\n"
     ]
    },
    {
     "name": "stdout",
     "output_type": "stream",
     "text": [
      "505.6 GaussianNB(priors=None, var_smoothing=1e-09)\n",
      "1225.0 MultinomialNB(alpha=1.0, class_prior=None, fit_prior=True)\n",
      "424.0 LogisticRegression(C=1.0, class_weight={'>50K': 0.8, '<=50K': 0.2},\n",
      "          dual=False, fit_intercept=True, intercept_scaling=1,\n",
      "          max_iter=10000, multi_class='warn', n_jobs=None, penalty='l2',\n",
      "          random_state=None, solver='lbfgs', tol=0.0001, verbose=0,\n",
      "          warm_start=False)\n",
      "415.8 LogisticRegression(C=1.0,\n",
      "          class_weight={'>50K': 0.8333333333333334, '<=50K': 0.16666666666666666},\n",
      "          dual=False, fit_intercept=True, intercept_scaling=1,\n",
      "          max_iter=10000, multi_class='warn', n_jobs=None, penalty='l2',\n",
      "          random_state=None, solver='lbfgs', tol=0.0001, verbose=0,\n",
      "          warm_start=False)\n",
      "413.4 LogisticRegression(C=1.0,\n",
      "          class_weight={'>50K': 0.8571428571428571, '<=50K': 0.14285714285714285},\n",
      "          dual=False, fit_intercept=True, intercept_scaling=1,\n",
      "          max_iter=10000, multi_class='warn', n_jobs=None, penalty='l2',\n",
      "          random_state=None, solver='lbfgs', tol=0.0001, verbose=0,\n",
      "          warm_start=False)\n",
      "465.8 SVC(C=1.0, cache_size=200, class_weight={'>50K': 0.8, '<=50K': 0.2},\n",
      "  coef0=0.0, decision_function_shape='ovr', degree=3, gamma='auto',\n",
      "  kernel='rbf', max_iter=-1, probability=True, random_state=None,\n",
      "  shrinking=True, tol=0.001, verbose=False)\n",
      "469.6 SVC(C=1.0, cache_size=200,\n",
      "  class_weight={'>50K': 0.8333333333333334, '<=50K': 0.16666666666666666},\n",
      "  coef0=0.0, decision_function_shape='ovr', degree=3, gamma='auto',\n",
      "  kernel='rbf', max_iter=-1, probability=True, random_state=None,\n",
      "  shrinking=True, tol=0.001, verbose=False)\n",
      "471.4 SVC(C=1.0, cache_size=200,\n",
      "  class_weight={'>50K': 0.8571428571428571, '<=50K': 0.14285714285714285},\n",
      "  coef0=0.0, decision_function_shape='ovr', degree=3, gamma='auto',\n",
      "  kernel='rbf', max_iter=-1, probability=True, random_state=None,\n",
      "  shrinking=True, tol=0.001, verbose=False)\n",
      "413.4 LogisticRegression(C=1.0,\n",
      "          class_weight={'>50K': 0.8571428571428571, '<=50K': 0.14285714285714285},\n",
      "          dual=False, fit_intercept=True, intercept_scaling=1,\n",
      "          max_iter=10000, multi_class='warn', n_jobs=None, penalty='l2',\n",
      "          random_state=None, solver='lbfgs', tol=0.0001, verbose=0,\n",
      "          warm_start=False)\n"
     ]
    }
   ],
   "source": [
    "from sklearn import model_selection\n",
    "from sklearn.metrics import confusion_matrix\n",
    "\n",
    "from sklearn.linear_model import LogisticRegression\n",
    "from sklearn.ensemble import RandomForestClassifier\n",
    "from sklearn.neighbors import KNeighborsClassifier\n",
    "from sklearn.discriminant_analysis import LinearDiscriminantAnalysis\n",
    "from sklearn.naive_bayes import GaussianNB, MultinomialNB\n",
    "from sklearn.svm import SVC\n",
    "\n",
    "models = [RandomForestClassifier(n_estimators=3, class_weight={\">50K\":i/(i+1), \"<=50K\":1/(i+1)}) for i in range(4, 7)] \\\n",
    "    + [KNeighborsClassifier()] \\\n",
    "    + [LinearDiscriminantAnalysis()] \\\n",
    "    + [GaussianNB()] \\\n",
    "    + [MultinomialNB()] \\\n",
    "    + [LogisticRegression(class_weight={\">50K\":i/(i+1), \"<=50K\":1/(i+1)}, solver=\"lbfgs\", max_iter=10000) for i in range(4, 7)] \\\n",
    "    + [SVC(class_weight={\">50K\":i/(i+1), \"<=50K\":1/(i+1)}, probability=True, gamma=\"auto\") for i in range(4, 7)]\n",
    "\n",
    "best_loss = float(\"inf\")\n",
    "best_model = None\n",
    "\n",
    "for model in models:\n",
    "    \n",
    "    fit_model = model.fit(X=X_train, y=y_train)\n",
    "    predictions = fit_model.predict(X_evaluate)\n",
    "    confusion = confusion_matrix(y_evaluate, predictions)\n",
    "    loss = confusion[0][1]/5 + confusion[1][0]\n",
    "\n",
    "    if loss < best_loss:\n",
    "        best_loss = loss\n",
    "        best_model = model\n",
    "    print(loss, model)\n",
    "        \n",
    "print(best_loss, best_model)"
   ]
  },
  {
   "cell_type": "code",
   "execution_count": 6,
   "metadata": {},
   "outputs": [
    {
     "data": {
      "text/plain": [
       "['./model.joblib']"
      ]
     },
     "execution_count": 6,
     "metadata": {},
     "output_type": "execute_result"
    }
   ],
   "source": [
    "import joblib\n",
    "import os\n",
    "joblib.dump(best_model, os.path.join(model_folder, \"model.joblib\"))"
   ]
  },
  {
   "cell_type": "code",
   "execution_count": 7,
   "metadata": {},
   "outputs": [],
   "source": [
    "# Reload the model to make sure it was writen properly\n",
    "model = joblib.load(os.path.join(model_folder, \"model.joblib\"))"
   ]
  },
  {
   "cell_type": "code",
   "execution_count": 8,
   "metadata": {},
   "outputs": [],
   "source": [
    "def get_class_probabilities(age=None,\n",
    "                workclass=None,\n",
    "                education_num=None,\n",
    "                marital_status=None,\n",
    "                occupation=None,\n",
    "                relationship=None,\n",
    "               race=None,\n",
    "               sex=None,\n",
    "               capital_gain=None,\n",
    "               capital_loss=None,\n",
    "               hours_per_week=None,\n",
    "               native_country=None):\n",
    "\n",
    "    example = pd.DataFrame.from_dict({\n",
    "        \"age\":[age],\n",
    "        \"workclass\":[workclass],\n",
    "        \"education-num\":[education_num],\n",
    "        \"marital-status\":[marital_status],\n",
    "        \"occupation\":[occupation],\n",
    "        \"relationship\":[relationship],\n",
    "        \"race\":[race],\n",
    "        \"sex\":[sex],\n",
    "        \"capital-gain\":[capital_gain],\n",
    "        \"capital-loss\":[capital_loss],\n",
    "        \"hours-per-week\":[hours_per_week],\n",
    "        \"native-country\":[native_country],\n",
    "        \"label\":\"?\",\n",
    "    })\n",
    "    predictable = to_predictable(example)\n",
    "    return model.predict_proba(predictable)"
   ]
  },
  {
   "cell_type": "code",
   "execution_count": 9,
   "metadata": {},
   "outputs": [
    {
     "name": "stdout",
     "output_type": "stream",
     "text": [
      "[[0.92676447 0.07323553]] [[0. 1.]]\n"
     ]
    }
   ],
   "source": [
    "# Sanity check to make sure that two obvious samples from each class are properly classified\n",
    "p0 = get_class_probabilities(40, \"?\", 14, \"Never-married\", \"?\", \"Not-in-family\", \"White\", \"Male\",       0, 0, 0, \"Canada\")\n",
    "p1 = get_class_probabilities(40, \"?\", 14, \"Never-married\", \"?\", \"Not-in-family\", \"White\", \"Male\", 1000000, 0, 0, \"Canada\")\n",
    "print(p0, p1)"
   ]
  },
  {
   "cell_type": "code",
   "execution_count": null,
   "metadata": {},
   "outputs": [],
   "source": []
  }
 ],
 "metadata": {
  "kernelspec": {
   "display_name": "Python 3",
   "language": "python",
   "name": "python3"
  },
  "language_info": {
   "codemirror_mode": {
    "name": "ipython",
    "version": 3
   },
   "file_extension": ".py",
   "mimetype": "text/x-python",
   "name": "python",
   "nbconvert_exporter": "python",
   "pygments_lexer": "ipython3",
   "version": "3.6.7"
  }
 },
 "nbformat": 4,
 "nbformat_minor": 2
}
